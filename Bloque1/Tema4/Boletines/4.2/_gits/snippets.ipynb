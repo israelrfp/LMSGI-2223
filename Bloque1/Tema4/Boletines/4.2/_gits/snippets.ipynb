{
 "cells": [
  {
   "attachments": {},
   "cell_type": "markdown",
   "metadata": {},
   "source": [
    "### Snipets de codigo para el proyecto de Bot"
   ]
  },
  {
   "attachments": {},
   "cell_type": "markdown",
   "metadata": {},
   "source": [
    "##### conocer si algo está dentro de un lista"
   ]
  },
  {
   "cell_type": "code",
   "execution_count": 3,
   "metadata": {},
   "outputs": [
    {
     "name": "stdout",
     "output_type": "stream",
     "text": [
      "Esta dentro de la lista\n"
     ]
    }
   ],
   "source": [
    "lista = [\"badajoz\",\"madrid\",\"segovia\"]\n",
    "\n",
    "provinciaUser= \"badajoz\"\n",
    "\n",
    "if provinciaUser in lista:\n",
    "    print(\"Esta dentro de la lista\")\n",
    "else:\n",
    "    print(\"No esta en la lista\")\n",
    "\n"
   ]
  },
  {
   "attachments": {},
   "cell_type": "markdown",
   "metadata": {},
   "source": [
    "### Obtener obtener datos aleatorios"
   ]
  },
  {
   "cell_type": "code",
   "execution_count": null,
   "metadata": {},
   "outputs": [],
   "source": [
    "import random\n",
    "\n",
    "listaNumms = list(range(1,100))\n",
    "\n",
    "# random choice limite number\n",
    "random.choice(listaNumms)\n",
    "print(random.choice(listaNumms,))\n",
    "\n",
    "random.sample(listaNumms,4)\n",
    "\n"
   ]
  },
  {
   "attachments": {},
   "cell_type": "markdown",
   "metadata": {},
   "source": [
    "### Mezclar municipos con pronvicias"
   ]
  },
  {
   "cell_type": "code",
   "execution_count": 12,
   "metadata": {},
   "outputs": [
    {
     "name": "stdout",
     "output_type": "stream",
     "text": [
      "badajoz - extremadura\n",
      "\taceuchal\n",
      "\tmérida\n",
      "\tdon benito\n",
      "caceres - extremadura\n",
      "\tcoria\n",
      "\ttrujillo\n",
      "\tplasencia\n",
      "sevilla - andalucia\n",
      "\tsevilla\n",
      "\thuelva\n",
      "\tcadiz\n",
      "\n"
     ]
    }
   ],
   "source": [
    "# Quiero conseguir de las pronvicas obtener la CCAA y anexar a los municipios+\n",
    "\n",
    "# construir un diccionario que permita rellenar el comando /municipios\n",
    "\n",
    "# El resultado del función para obtner los mucipios y la info de CCAA\n",
    "resultado = {\n",
    "  \"badajoz\": {\n",
    "    \"municipios\": [\"badajoz\",\"don benito\",\"mérida\",\"aceuchal\"],\n",
    "    \"ccaa\": \"extremadura\"\n",
    "  },\n",
    "  \"caceres\": {\n",
    "    \"municipios\": [\"caceres\",\"plasencia\",\"trujillo\",\"coria\",\"torrejon el rubio\"],\n",
    "    \"ccaa\": \"extremadura\",\n",
    "  } ,\n",
    "  \"sevilla\": {\n",
    "    \"municipios\": [\"sevilla\",\"cordoba\",\"jaen\",\"huelva\",\"cadiz\"],\n",
    "    \"ccaa\": \"andalucia\",\n",
    "  }\n",
    "}\n",
    "\n",
    "import random\n",
    "\n",
    "# Muestro la informacion\n",
    "textoToBot = \"\"\n",
    "for provincia,value in resultado.items():\n",
    "    textoToBot += f\"{provincia} - {value['ccaa']}\\n\"\n",
    "    # Obtener 3 municipios aleatorios\n",
    "    listaMunicipiosAleatorios = random.sample(value[\"municipios\"],3)\n",
    "    for municipio in listaMunicipiosAleatorios:\n",
    "        textoToBot += f\"\\t{municipio}\\n\"\n",
    "\n",
    "print(textoToBot)\n"
   ]
  }
 ],
 "metadata": {
  "kernelspec": {
   "display_name": "Python 3",
   "language": "python",
   "name": "python3"
  },
  "language_info": {
   "codemirror_mode": {
    "name": "ipython",
    "version": 3
   },
   "file_extension": ".py",
   "mimetype": "text/x-python",
   "name": "python",
   "nbconvert_exporter": "python",
   "pygments_lexer": "ipython3",
   "version": "3.10.9"
  },
  "orig_nbformat": 4
 },
 "nbformat": 4,
 "nbformat_minor": 2
}
