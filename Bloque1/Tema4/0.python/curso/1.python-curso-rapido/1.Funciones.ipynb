{
 "cells": [
  {
   "cell_type": "markdown",
   "id": "a104736f",
   "metadata": {},
   "source": [
    "## Funciones\n",
    "Existe una distinción teórica que me gusta remarcar acerca de las funciones que, si bien al momento de crear una no es relevante, considero importante hacer. Hay un tipo de función que puede categorizarse junto con los condicionales y los bucles: esto es, sirve para agrupar un conjunto de instrucciones bajo un mismo nombre para evitar repetirlas a lo largo del código. El otro, es el concepto de función tal como se conoce en matemática: una función obtiene un valor o un conjunto de valores de entrada, aplica una serie de operaciones y retorna un valor o un conjunto de valores de salida, un resultado.\n",
    "\n",
    "Como sea, empecemos por un ejemplo simple. Definamos una función dup(n), muy al estilo matemático, que tome como argumento un número y retorne el doble."
   ]
  },
  {
   "cell_type": "code",
   "execution_count": 1,
   "id": "2d0a0c06",
   "metadata": {},
   "outputs": [],
   "source": [
    "def dup(n):\n",
    "    return n * 2"
   ]
  },
  {
   "cell_type": "markdown",
   "id": "295ffe8f",
   "metadata": {},
   "source": [
    "Hagamos la siguiente prueba"
   ]
  },
  {
   "cell_type": "code",
   "execution_count": 2,
   "id": "90c70efe",
   "metadata": {},
   "outputs": [
    {
     "name": "stdout",
     "output_type": "stream",
     "text": [
      "10\n"
     ]
    }
   ],
   "source": [
    "# Imprime 10 en pantalla.\n",
    "print(dup(5))"
   ]
  },
  {
   "cell_type": "markdown",
   "id": "1b9519c6",
   "metadata": {},
   "source": [
    "Ahora consideremos esta definición"
   ]
  },
  {
   "cell_type": "code",
   "execution_count": 4,
   "id": "f4112b40",
   "metadata": {},
   "outputs": [
    {
     "name": "stdout",
     "output_type": "stream",
     "text": [
      "Hola mundo\n"
     ]
    }
   ],
   "source": [
    "def saludar(nombre):\n",
    "    print(\"Hola\", nombre)\n",
    "\n",
    "saludar(\"mundo\")"
   ]
  },
  {
   "cell_type": "markdown",
   "id": "1855b93c",
   "metadata": {},
   "source": [
    "En este caso, nuestra función saludar() no retorna ningún valor. Aunque, en efecto, Python le asigna un valor de retorno por defecto llamado None. Se trata de un tipo de dato como los que hemos estado trabajando, pero un tanto más particular, ya que intenta indicar que una variable está vacía."
   ]
  },
  {
   "cell_type": "code",
   "execution_count": 13,
   "id": "8867451e",
   "metadata": {},
   "outputs": [
    {
     "name": "stdout",
     "output_type": "stream",
     "text": [
      "a is None: True\n",
      "b is not None: True\n"
     ]
    }
   ],
   "source": [
    "a = None\n",
    "b = 3.14\n",
    "\n",
    "print(\"a is None:\",a is None)\n",
    "print(\"b is not None:\",b is not None)\n"
   ]
  },
  {
   "cell_type": "markdown",
   "id": "379b8b0b",
   "metadata": {},
   "source": [
    "La única diferencia, como se observa, es que para realizar comparaciones respecto de None utilizamos las palabras reservadas is e is not en lugar de == y !=.\n",
    "\n",
    "### Argumentos\n",
    "En Python los argumentos de las funciones tienen un comportamiento particular a diferencia de otros lenguajes. Tomemos como ejemplo la siguiente función.\n"
   ]
  },
  {
   "cell_type": "code",
   "execution_count": 16,
   "id": "2bf1e5f2",
   "metadata": {},
   "outputs": [],
   "source": [
    "def sumar(a, b):\n",
    "    return a + b"
   ]
  },
  {
   "cell_type": "markdown",
   "id": "bfd32b75",
   "metadata": {},
   "source": [
    "De ella decimos que tiene dos argumentos posicionales. Llevan ese nombre por cuanto al invocar sumar(7, 5), 7 se corresponde con a por ser el primer argumento, y 5 se corresponde con b por ser el segundo. Si lo invertimos, de modo que llamemos a sumar(5, 7), entonces ahora a == 5 y b == 7.\n",
    "\n",
    "Además, al invocar a una función con argumentos posicionales, estos siempren deben tener un valor. Por ejemplo, las siguientes llamadas arrojan un error."
   ]
  },
  {
   "cell_type": "code",
   "execution_count": 19,
   "id": "e86170a1",
   "metadata": {},
   "outputs": [
    {
     "ename": "TypeError",
     "evalue": "sumar() missing 1 required positional argument: 'b'",
     "output_type": "error",
     "traceback": [
      "\u001b[0;31m---------------------------------------------------------------------------\u001b[0m",
      "\u001b[0;31mTypeError\u001b[0m                                 Traceback (most recent call last)",
      "\u001b[0;32m<ipython-input-19-579619be83ee>\u001b[0m in \u001b[0;36m<module>\u001b[0;34m\u001b[0m\n\u001b[1;32m      1\u001b[0m \u001b[0;31m# Falta especificar el argumento b.\u001b[0m\u001b[0;34m\u001b[0m\u001b[0;34m\u001b[0m\u001b[0;34m\u001b[0m\u001b[0m\n\u001b[0;32m----> 2\u001b[0;31m \u001b[0msumar\u001b[0m\u001b[0;34m(\u001b[0m\u001b[0;36m7\u001b[0m\u001b[0;34m)\u001b[0m\u001b[0;34m\u001b[0m\u001b[0;34m\u001b[0m\u001b[0m\n\u001b[0m\u001b[1;32m      3\u001b[0m \u001b[0;31m# Sobra un argumento.\u001b[0m\u001b[0;34m\u001b[0m\u001b[0;34m\u001b[0m\u001b[0;34m\u001b[0m\u001b[0m\n\u001b[1;32m      4\u001b[0m \u001b[0msumar\u001b[0m\u001b[0;34m(\u001b[0m\u001b[0;36m7\u001b[0m\u001b[0;34m,\u001b[0m \u001b[0;36m5\u001b[0m\u001b[0;34m,\u001b[0m \u001b[0;36m3\u001b[0m\u001b[0;34m)\u001b[0m\u001b[0;34m\u001b[0m\u001b[0;34m\u001b[0m\u001b[0m\n",
      "\u001b[0;31mTypeError\u001b[0m: sumar() missing 1 required positional argument: 'b'"
     ]
    }
   ],
   "source": [
    "# Falta especificar el argumento b.\n",
    "sumar(7)\n",
    "# Sobra un argumento.\n",
    "sumar(7, 5, 3)"
   ]
  },
  {
   "cell_type": "markdown",
   "id": "5fa6c9ea",
   "metadata": {},
   "source": [
    "Ahora bien, una función puede tener argumentos con valores por defecto, de modo que, al llamarla, si no hemos especificado un valor concreto por argumento, éste toma automáticamente el que la definición le ha asignado por defecto."
   ]
  },
  {
   "cell_type": "code",
   "execution_count": 20,
   "id": "b2045f92",
   "metadata": {},
   "outputs": [
    {
     "name": "stdout",
     "output_type": "stream",
     "text": [
      "12\n",
      "15\n"
     ]
    }
   ],
   "source": [
    "def sumar(a, b=5):\n",
    "    return a + b\n",
    "\n",
    "# ¡Perfecto! Imprime 12.\n",
    "print(sumar(7))\n",
    "# En este caso, b == 10.\n",
    "print(sumar(5, 10))"
   ]
  },
  {
   "cell_type": "markdown",
   "id": "0c2f629b",
   "metadata": {},
   "source": [
    "Agreguemos, para avanzar un poco más, un tercer argumento c con un valor por defecto."
   ]
  },
  {
   "cell_type": "code",
   "execution_count": 21,
   "id": "f10f47d6",
   "metadata": {},
   "outputs": [
    {
     "name": "stdout",
     "output_type": "stream",
     "text": [
      "22\n"
     ]
    }
   ],
   "source": [
    "def sumar(a, b=5, c=10):\n",
    "    return a + b + c\n",
    "\n",
    "# Imprime 22 (7 + 5 + 10).\n",
    "print(sumar(7))"
   ]
  },
  {
   "cell_type": "markdown",
   "id": "1bc8fba6",
   "metadata": {},
   "source": [
    "¿Qué ocurre si quiero indicar un valor para el argumento c mientras que b mantenga su valor por defecto? En ese caso, en lugar de pasar el argumento por posición, lo voy a pasar por nombre."
   ]
  },
  {
   "cell_type": "code",
   "execution_count": 22,
   "id": "7df9528a",
   "metadata": {},
   "outputs": [
    {
     "name": "stdout",
     "output_type": "stream",
     "text": [
      "32\n"
     ]
    }
   ],
   "source": [
    "# Imprime 32 (7 + 5 + 20).\n",
    "print(sumar(7, c=20))"
   ]
  },
  {
   "cell_type": "markdown",
   "id": "f9093a79",
   "metadata": {},
   "source": [
    "La posibilidad de pasar argumentos por su nombre en la llamada a una función solo puede darse en aquellos que tengan un valor por defecto. De ahí que a estos se los conozca como argumentos por nombre. En estos casos, la posición de los argumentos es indistinta, de modo que el siguiente código es perfectamente válido."
   ]
  },
  {
   "cell_type": "code",
   "execution_count": 23,
   "id": "46c5ac39",
   "metadata": {},
   "outputs": [
    {
     "name": "stdout",
     "output_type": "stream",
     "text": [
      "37\n"
     ]
    }
   ],
   "source": [
    "# El orden es indistinto en los argumentos por nombre.\n",
    "print(sumar(7, c=20, b=10))"
   ]
  },
  {
   "cell_type": "markdown",
   "id": "7f6de69d",
   "metadata": {},
   "source": [
    "(Nótese que, por convención, cuando especificamos el valor de un argumento por nombre no se ubican espacios alrededor del signo igual).\n",
    "\n",
    "La única restricción es que los argumentos posicionales deben preceder a los argumentos por nombre, tanto en la definición de una función como en la llamada. El siguiente ejemplo no es un código válido de Python.\n",
    "\n",
    "**¡¡¡Inválido!!!**<br/>\n",
    "def sumar(a=5, b):<br/>\n",
    "    return a + b\n",
    "    \n",
    "Python provee otras herramientas interesantes para trabajar con los argumentos. Por ejemplo, la posibilidad de crear funciones con argumentos infinitos. Véase, para ahondar en ellas, el siguiente artículo: Argumentos en funciones.\n",
    "\n",
    "### Documentación\n",
    "Cuando diseñamos una función, lo ideal es documentar su comportamiento utilizando comillas triples inmediatamente luego de su definición."
   ]
  },
  {
   "cell_type": "code",
   "execution_count": 24,
   "id": "da970208",
   "metadata": {},
   "outputs": [],
   "source": [
    "def dup(n):\n",
    "    \"\"\"\n",
    "    Retorna el doble de `n`.\n",
    "    \"\"\"\n",
    "    return n * 2"
   ]
  },
  {
   "cell_type": "markdown",
   "id": "650c4859",
   "metadata": {},
   "source": [
    "Cuando la documentación es más bien corta, como la que hemos mostrado, podemos ubicarla por completo en la misma línea, incluso usando comillas simples."
   ]
  },
  {
   "cell_type": "code",
   "execution_count": 25,
   "id": "832076ca",
   "metadata": {},
   "outputs": [],
   "source": [
    "def dup(n):\n",
    "    \"Retorna el doble de `n`.\"\n",
    "    return n * 2"
   ]
  },
  {
   "cell_type": "code",
   "execution_count": null,
   "id": "6b100230",
   "metadata": {},
   "outputs": [],
   "source": []
  }
 ],
 "metadata": {
  "kernelspec": {
   "display_name": "Python 3",
   "language": "python",
   "name": "python3"
  },
  "language_info": {
   "codemirror_mode": {
    "name": "ipython",
    "version": 3
   },
   "file_extension": ".py",
   "mimetype": "text/x-python",
   "name": "python",
   "nbconvert_exporter": "python",
   "pygments_lexer": "ipython3",
   "version": "3.10.9 (tags/v3.10.9:1dd9be6, Dec  6 2022, 20:01:21) [MSC v.1934 64 bit (AMD64)]"
  },
  "vscode": {
   "interpreter": {
    "hash": "e0d6f955f6b20eb780b1bed86b0701aab2a0d057c895afdcce576bc2196dcc6d"
   }
  }
 },
 "nbformat": 4,
 "nbformat_minor": 5
}
