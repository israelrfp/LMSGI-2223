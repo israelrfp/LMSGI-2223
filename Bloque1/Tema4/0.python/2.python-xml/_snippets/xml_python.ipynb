{
 "cells": [
  {
   "cell_type": "code",
   "execution_count": 11,
   "metadata": {},
   "outputs": [
    {
     "name": "stdout",
     "output_type": "stream",
     "text": [
      "[<Element ciclo at 0x11396c9c0>]\n"
     ]
    }
   ],
   "source": [
    "from lxml import etree\n",
    "import os\n",
    "\n",
    "filename= 'ies.xml'\n",
    "# fullPath = f\"{os.path.dirname(os.path.abspath(__file__))}/{filename}\"\n",
    "doc = etree.parse(filename)\n",
    "\n",
    "# print(etree.tostring(doc, pretty_print=True,xml_declaration=True, encoding='UTF-8'))\n",
    "\n",
    "print(doc.xpath('//ciclos/ciclo[@id=\"DAW\"]/text()'))\n"
   ]
  }
 ],
 "metadata": {
  "kernelspec": {
   "display_name": "Python 3",
   "language": "python",
   "name": "python3"
  },
  "language_info": {
   "codemirror_mode": {
    "name": "ipython",
    "version": 3
   },
   "file_extension": ".py",
   "mimetype": "text/x-python",
   "name": "python",
   "nbconvert_exporter": "python",
   "pygments_lexer": "ipython3",
   "version": "3.10.9"
  },
  "orig_nbformat": 4,
  "vscode": {
   "interpreter": {
    "hash": "b0fa6594d8f4cbf19f97940f81e996739fb7646882a419484c72d19e05852a7e"
   }
  }
 },
 "nbformat": 4,
 "nbformat_minor": 2
}
